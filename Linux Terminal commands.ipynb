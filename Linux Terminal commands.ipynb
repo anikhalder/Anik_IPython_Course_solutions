{
 "metadata": {
  "name": ""
 },
 "nbformat": 3,
 "nbformat_minor": 0,
 "worksheets": [
  {
   "cells": [
    {
     "cell_type": "raw",
     "metadata": {},
     "source": [
      "papc-astlab-03:~> emacs test.txt &\n",
      "[1] 6332\n",
      "\n",
      "papc-astlab-03:~> ls\n",
      "data\t   Music\t\t\t  Profile.V2\tTest.ipynb\n",
      "data.txt   Pictures\t\t\t  Public\ttest.txt\n",
      "Desktop    Problem Set 1 Solutions.ipynb  Templates\tVideos\n",
      "Documents  Problem Set 2 Solutions.ipynb  Test 2.ipynb\n",
      "Downloads  Problem Set 3 Solutions.ipynb  Test 3.ipynb\n",
      "papc-astlab-03:~> ls\n",
      "\n",
      "data\t   problem1_1.py\t\t  Test 2.ipynb\n",
      "data.txt   Problem Set 1 Solutions.ipynb  Test 3.ipynb\n",
      "Desktop    Problem Set 2 Solutions.ipynb  Test.ipynb\n",
      "Documents  Problem Set 3 Solutions.ipynb  test.txt\n",
      "Downloads  Profile.V2\t\t\t  Videos\n",
      "Music\t   Public\n",
      "Pictures   Templates\n",
      "\n",
      "papc-astlab-03:~> mkdir git_tutorial\n",
      "\n",
      "papc-astlab-03:~> mv problem1_1.py git_tutorial/.\n",
      "\n",
      "papc-astlab-03:~> ls\n",
      "data\t      Pictures\t\t\t     Test 2.ipynb\n",
      "data.txt      Problem Set 1 Solutions.ipynb  Test 3.ipynb\n",
      "Desktop       Problem Set 2 Solutions.ipynb  Test.ipynb\n",
      "Documents     Problem Set 3 Solutions.ipynb  test.txt\n",
      "Downloads     Profile.V2\t\t     Videos\n",
      "git_tutorial  Public\n",
      "Music\t      Templates\n",
      "\n",
      "papc-astlab-03:~> cd git_tutorial/\n",
      "\n",
      "papc-astlab-03:~/git_tutorial> ls\n",
      "problem1_1.py\n",
      "\n",
      "papc-astlab-03:~/git_tutorial> cd ..\n",
      "\n",
      "papc-astlab-03:~> cd git_tutorial/\n",
      "\n",
      "papc-astlab-03:~/git_tutorial> python problem1_1.py \n",
      "\n",
      "TGCAATCGATCCGATCGCAATCCGACTAGCCTAATAATACGCCCATGCTACGATAGCAAGT\n"
     ]
    }
   ],
   "metadata": {}
  }
 ]
}